{
 "cells": [
  {
   "cell_type": "code",
   "execution_count": 2,
   "metadata": {},
   "outputs": [],
   "source": [
    "# import necessary libraries\n",
    "from sklearn.model_selection import train_test_split\n",
    "from keras.optimizers import Adadelta\n",
    "from keras.utils import to_categorical\n",
    "from keras.models import Sequential\n",
    "from keras.layers import Dense, Dropout\n",
    "from keras import regularizers\n",
    "import numpy as np\n",
    "import pandas as pd\n",
    "import matplotlib.pyplot as plt"
   ]
  },
  {
   "cell_type": "code",
   "execution_count": 6,
   "metadata": {},
   "outputs": [],
   "source": [
    "# load data\n",
    "dat = pd.read_csv('preprocessed_data.csv')\n",
    "dat = dat.to_numpy()\n",
    "\n",
    "# split data into features and amino acid groups\n",
    "feat = data[:,[0,1]]\n",
    "aa = to_categorical(dat[:,2])\n",
    "train_features, test_features, train_aa, test_aa = train_test_split(feat, aa, test_size = 0.2, random_state = 0)"
   ]
  },
  {
   "cell_type": "code",
   "execution_count": 21,
   "metadata": {},
   "outputs": [
    {
     "name": "stdout",
     "output_type": "stream",
     "text": [
      "1600/1600 [==============================] - 0s 48us/step\n",
      "400/400 [==============================] - 0s 54us/step\n",
      "_________________________________________________________________\n",
      "Layer (type)                 Output Shape              Param #   \n",
      "=================================================================\n",
      "dense_79 (Dense)             (None, 250)               750       \n",
      "_________________________________________________________________\n",
      "dropout_65 (Dropout)         (None, 250)               0         \n",
      "_________________________________________________________________\n",
      "dense_80 (Dense)             (None, 125)               31375     \n",
      "_________________________________________________________________\n",
      "dropout_66 (Dropout)         (None, 125)               0         \n",
      "_________________________________________________________________\n",
      "dense_81 (Dense)             (None, 100)               12600     \n",
      "_________________________________________________________________\n",
      "dropout_67 (Dropout)         (None, 100)               0         \n",
      "_________________________________________________________________\n",
      "dense_82 (Dense)             (None, 20)                2020      \n",
      "=================================================================\n",
      "Total params: 46,745\n",
      "Trainable params: 46,745\n",
      "Non-trainable params: 0\n",
      "_________________________________________________________________\n",
      "None\n",
      "Training accuracy: 79.5% \n",
      "Testing accuracy: 83.75%\n"
     ]
    }
   ],
   "source": [
    "# define keras model\n",
    "model = Sequential()\n",
    "model.add(Dense(250, input_dim = 2, activation = 'tanh', kernel_regularizer = regularizers.l2(0.001), kernel_initializer = 'zeros'))\n",
    "model.add(Dropout(0.3))\n",
    "model.add(Dense(125, activation = 'tanh', kernel_regularizer = regularizers.l2(0.001)))\n",
    "model.add(Dropout(0.3))\n",
    "model.add(Dense(100, activation = 'tanh', kernel_regularizer = regularizers.l2(0.001)))\n",
    "model.add(Dropout(0.3))\n",
    "model.add(Dense(20, activation = 'softmax'))\n",
    "# compile  keras model\n",
    "model.compile(loss = 'categorical_crossentropy', optimizer = 'rmsprop', metrics = ['accuracy'])\n",
    "# fit keras model on dataset\n",
    "model.fit(feat_train, aa_train, validation_data = (feat_test, aa_test), epochs = 1000, batch_size = 600, verbose = 0)\n",
    "# accuracy of keras model\n",
    "_, train_acc = model.evaluate(train_features, train_aa)\n",
    "_, test_acc = model.evaluate(test_features, test_aa)\n",
    "\n",
    "print(model.summary())\n",
    "print('Training accuracy: {}% \\nTesting accuracy: {}%'.format(np.round(train_acc * 100, 4), np.round(test_acc * 100, 4)))"
   ]
  },
  {
   "cell_type": "code",
   "execution_count": null,
   "metadata": {},
   "outputs": [],
   "source": []
  }
 ],
 "metadata": {
  "kernelspec": {
   "display_name": "Python 3",
   "language": "python",
   "name": "python3"
  },
  "language_info": {
   "codemirror_mode": {
    "name": "ipython",
    "version": 3
   },
   "file_extension": ".py",
   "mimetype": "text/x-python",
   "name": "python",
   "nbconvert_exporter": "python",
   "pygments_lexer": "ipython3",
   "version": "3.7.5"
  }
 },
 "nbformat": 4,
 "nbformat_minor": 4
}
