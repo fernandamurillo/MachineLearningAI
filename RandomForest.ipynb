{
 "cells": [
  {
   "cell_type": "code",
   "execution_count": 31,
   "metadata": {},
   "outputs": [],
   "source": [
    "import numpy as np\n",
    "import pandas as pd\n",
    "import matplotlib.pyplot as plt\n",
    "from sklearn.model_selection import train_test_split\n",
    "from sklearn.ensemble import RandomForestRegressor\n",
    "from sklearn.metrics import mean_squared_error\n",
    "from sklearn.feature_selection import SelectFromModel\n",
    "from sklearn.model_selection import KFold"
   ]
  },
  {
   "cell_type": "markdown",
   "metadata": {},
   "source": [
    "## a) load/merge data and visualize logerror"
   ]
  },
  {
   "cell_type": "code",
   "execution_count": 2,
   "metadata": {},
   "outputs": [],
   "source": [
    "# load data into DataFrames\n",
    "properties = pd.read_csv('q3_data/properties.csv') \n",
    "train = pd.read_csv('q3_data/train.csv') \n",
    "\n",
    "data = pd.merge(train,properties,left_on='id',right_on='id',how='left')"
   ]
  },
  {
   "cell_type": "code",
   "execution_count": 3,
   "metadata": {},
   "outputs": [
    {
     "name": "stderr",
     "output_type": "stream",
     "text": [
      "/anaconda3/lib/python3.6/site-packages/ipykernel_launcher.py:5: SettingWithCopyWarning: \n",
      "A value is trying to be set on a copy of a slice from a DataFrame\n",
      "\n",
      "See the caveats in the documentation: http://pandas.pydata.org/pandas-docs/stable/user_guide/indexing.html#returning-a-view-versus-a-copy\n",
      "  \"\"\"\n",
      "/anaconda3/lib/python3.6/site-packages/ipykernel_launcher.py:10: SettingWithCopyWarning: \n",
      "A value is trying to be set on a copy of a slice from a DataFrame\n",
      "\n",
      "See the caveats in the documentation: http://pandas.pydata.org/pandas-docs/stable/user_guide/indexing.html#returning-a-view-versus-a-copy\n",
      "  # Remove the CWD from sys.path while we load stuff.\n"
     ]
    }
   ],
   "source": [
    "# eliminate outliers\n",
    "min_val = np.percentile(data.logerror, 1)\n",
    "for i in range(len(data.logerror)):\n",
    "    if data.logerror[i] < min_val:\n",
    "        data.logerror[i]= min_val\n",
    "        \n",
    "max_val = np.percentile(data.logerror, 99)\n",
    "for i in range(len(data.logerror)):\n",
    "    if data.logerror[i] > max_val:\n",
    "        data.logerror[i]= max_val"
   ]
  },
  {
   "cell_type": "code",
   "execution_count": 4,
   "metadata": {},
   "outputs": [
    {
     "data": {
      "image/png": "[encoded data removed]",
      "text/plain": [
       "<Figure size 432x288 with 1 Axes>"
      ]
     },
     "metadata": {
      "needs_background": "light"
     },
     "output_type": "display_data"
    }
   ],
   "source": [
    "# scatter of logerr\n",
    "logerr = np.array(data.logerror)\n",
    "x = np.arange(len(logerr))\n",
    "plt.scatter(np.sort(logerr),x)\n",
    "plt.show()"
   ]
  },
  {
   "cell_type": "code",
   "execution_count": 5,
   "metadata": {},
   "outputs": [
    {
     "data": {
      "image/png": "[encoded data removed]",
      "text/plain": [
       "<Figure size 432x288 with 1 Axes>"
      ]
     },
     "metadata": {
      "needs_background": "light"
     },
     "output_type": "display_data"
    }
   ],
   "source": [
    "# histogram of logerr\n",
    "plt.hist(data.logerror, bins = 50)\n",
    "plt.show()"
   ]
  },
  {
   "cell_type": "markdown",
   "metadata": {},
   "source": [
    "## b) data cleaning"
   ]
  },
  {
   "cell_type": "code",
   "execution_count": 6,
   "metadata": {},
   "outputs": [],
   "source": [
    "# build new data frame\n",
    "column_name = list(data)\n",
    "missing_count = []\n",
    "missing_ratio = []\n",
    "\n",
    "for i in column_name: \n",
    "    missing_count.append(data[i].isnull().sum())\n",
    "\n",
    "missing_ratio = [missing_count[i]/len(data) for i  in range(len(missing_count))]\n",
    "    \n",
    "dat_array = np.concatenate(( np.array(column_name).reshape(-1,1),np.array(missing_count).reshape(-1,1),np.array(missing_ratio).reshape(-1,1) ),axis=1)\n",
    "new_df = pd.DataFrame(dat_array, columns = ['Column Name', 'Missing Count','Missing Ratio' ])"
   ]
  },
  {
   "cell_type": "code",
   "execution_count": 7,
   "metadata": {},
   "outputs": [],
   "source": [
    "# fill missing data\n",
    "data = data.fillna(data.mean())"
   ]
  },
  {
   "cell_type": "markdown",
   "metadata": {},
   "source": [
    "## c) univariate analysis"
   ]
  },
  {
   "cell_type": "code",
   "execution_count": 8,
   "metadata": {},
   "outputs": [
    {
     "name": "stderr",
     "output_type": "stream",
     "text": [
      "/anaconda3/lib/python3.6/site-packages/numpy/lib/function_base.py:2534: RuntimeWarning: invalid value encountered in true_divide\n",
      "  c /= stddev[:, None]\n",
      "/anaconda3/lib/python3.6/site-packages/numpy/lib/function_base.py:2535: RuntimeWarning: invalid value encountered in true_divide\n",
      "  c /= stddev[None, :]\n"
     ]
    },
    {
     "data": {
      "image/png": "[encoded data removed]",
      "text/plain": [
       "<Figure size 432x288 with 1 Axes>"
      ]
     },
     "metadata": {
      "needs_background": "light"
     },
     "output_type": "display_data"
    }
   ],
   "source": [
    "# make bar chart\n",
    "# For each variable, compute the correlation coefficient with logerror. After that, sort and make a bar chart of these coefficients.\n",
    "data_num = data.select_dtypes(include=[np.float])\n",
    "column_name = list(data_num)\n",
    "covariance = []\n",
    "for i in column_name:\n",
    "    C = np.corrcoef(data_num[i], logerr)\n",
    "    covariance.append( C[0,1] )\n",
    "y_pos = np.arange(len(column_name)-1)\n",
    "cov = np.array(covariance)\n",
    "plt.bar(y_pos,np.sort(cov[1:53:]))\n",
    "plt.xlabel('variable')\n",
    "plt.ylabel('correlation coefficient')\n",
    "plt.show()"
   ]
  },
  {
   "cell_type": "markdown",
   "metadata": {},
   "source": [
    "# explain reason\n",
    "There are a few labels without any correlation values because they had mostly NaN values"
   ]
  },
  {
   "cell_type": "markdown",
   "metadata": {},
   "source": [
    "## d) non-linear regression model"
   ]
  },
  {
   "cell_type": "code",
   "execution_count": 9,
   "metadata": {},
   "outputs": [],
   "source": [
    "# drop categorical features \n",
    "# (\"hashottuborspa\", \"propertycountylandusecode\", \"propertyzoningdesc\", \"fireplaceflag\", \"taxdelinquencyflag\") \n",
    "# drop \"id\" and \"transactiondate\"\n",
    "data_num = data.select_dtypes(include=[np.float])"
   ]
  },
  {
   "cell_type": "code",
   "execution_count": 12,
   "metadata": {},
   "outputs": [],
   "source": [
    "# split and train\n",
    "dat = data_num.loc[:, data_num.columns != 'logerror']\n",
    "X_train, X_test, y_train, y_test = train_test_split(dat, logerr, test_size=0.30)\n",
    "\n",
    "forest = RandomForestRegressor(n_estimators = 10,random_state=42)\n",
    "forest.fit(X_train, y_train)"
   ]
  },
  {
   "cell_type": "code",
   "execution_count": 25,
   "metadata": {},
   "outputs": [
    {
     "name": "stdout",
     "output_type": "stream",
     "text": [
      "Variable: lotsizesquarefeet    Importance: 0.08\n",
      "Variable: structuretaxvaluedollarcnt Importance: 0.08\n",
      "Variable: taxamount            Importance: 0.08\n",
      "Variable: latitude             Importance: 0.07\n",
      "Variable: longitude            Importance: 0.07\n",
      "Variable: yearbuilt            Importance: 0.07\n",
      "Variable: taxvaluedollarcnt    Importance: 0.07\n",
      "Variable: landtaxvaluedollarcnt Importance: 0.06\n",
      "Variable: calculatedfinishedsquarefeet Importance: 0.05\n",
      "Variable: finishedsquarefeet12 Importance: 0.05\n",
      "Variable: regionidzip          Importance: 0.05\n",
      "Variable: rawcensustractandblock Importance: 0.04\n",
      "Variable: regionidcity         Importance: 0.03\n",
      "Variable: regionidneighborhood Importance: 0.03\n",
      "Variable: bedroomcnt           Importance: 0.02\n",
      "Variable: censustractandblock  Importance: 0.02\n",
      "Variable: airconditioningtypeid Importance: 0.01\n",
      "Variable: bathroomcnt          Importance: 0.01\n",
      "Variable: buildingqualitytypeid Importance: 0.01\n",
      "Variable: calculatedbathnbr    Importance: 0.01\n",
      "Variable: finishedsquarefeet15 Importance: 0.01\n",
      "Variable: fullbathcnt          Importance: 0.01\n",
      "Variable: garagetotalsqft      Importance: 0.01\n",
      "Variable: heatingorsystemtypeid Importance: 0.01\n",
      "Variable: propertylandusetypeid Importance: 0.01\n",
      "Variable: unitcnt              Importance: 0.01\n",
      "Variable: taxdelinquencyyear   Importance: 0.01\n",
      "Variable: architecturalstyletypeid Importance: 0.0\n",
      "Variable: basementsqft         Importance: 0.0\n",
      "Variable: buildingclasstypeid  Importance: 0.0\n",
      "Variable: decktypeid           Importance: 0.0\n",
      "Variable: finishedfloor1squarefeet Importance: 0.0\n",
      "Variable: finishedsquarefeet13 Importance: 0.0\n",
      "Variable: finishedsquarefeet50 Importance: 0.0\n",
      "Variable: finishedsquarefeet6  Importance: 0.0\n",
      "Variable: fips                 Importance: 0.0\n",
      "Variable: fireplacecnt         Importance: 0.0\n",
      "Variable: garagecarcnt         Importance: 0.0\n",
      "Variable: poolcnt              Importance: 0.0\n",
      "Variable: poolsizesum          Importance: 0.0\n",
      "Variable: pooltypeid10         Importance: 0.0\n",
      "Variable: pooltypeid2          Importance: 0.0\n",
      "Variable: pooltypeid7          Importance: 0.0\n",
      "Variable: regionidcounty       Importance: 0.0\n",
      "Variable: roomcnt              Importance: 0.0\n",
      "Variable: storytypeid          Importance: 0.0\n",
      "Variable: threequarterbathnbr  Importance: 0.0\n",
      "Variable: typeconstructiontypeid Importance: 0.0\n",
      "Variable: yardbuildingsqft17   Importance: 0.0\n",
      "Variable: yardbuildingsqft26   Importance: 0.0\n",
      "Variable: numberofstories      Importance: 0.0\n",
      "Variable: assessmentyear       Importance: 0.0\n"
     ]
    },
    {
     "data": {
      "image/png": "[encoded data removed]",
      "text/plain": [
       "<Figure size 432x288 with 1 Axes>"
      ]
     },
     "metadata": {},
     "output_type": "display_data"
    },
    {
     "name": "stdout",
     "output_type": "stream",
     "text": [
      "MSE: 0.010661653240242675\n"
     ]
    }
   ],
   "source": [
    "# report importances and mse\n",
    "column_name = list(dat)\n",
    "predictions = forest.predict(X_test)\n",
    "MSE = mean_squared_error(predictions,y_test)\n",
    "\n",
    "importances = list(forest.feature_importances_)\n",
    "feature_importances = [(feature, round(importance, 2)) for feature, importance in zip(column_name, importances)]\n",
    "\n",
    "feature_importances = sorted(feature_importances, key = lambda x: x[1], reverse = True)\n",
    " \n",
    "[print('Variable: {:20} Importance: {}'.format(*pair)) for pair in feature_importances];\n",
    "\n",
    "x_values = list(range(len(importances)))\n",
    "plt.bar(x_values, importances, orientation = 'vertical',width = 2)\n",
    "plt.xticks(x_values, column_name, rotation='vertical',fontsize=8)\n",
    "plt.ylabel('Importance')\n",
    "plt.xlabel('Feature')\n",
    "plt.title('Feature Importance');\n",
    "plt.show()\n",
    "\n",
    "print('MSE: {}'.format(MSE))"
   ]
  },
  {
   "cell_type": "markdown",
   "metadata": {},
   "source": [
    "## e) KFold"
   ]
  },
  {
   "cell_type": "code",
   "execution_count": 56,
   "metadata": {},
   "outputs": [
    {
     "name": "stdout",
     "output_type": "stream",
     "text": [
      "MSE: 0.012315034963505635\n"
     ]
    }
   ],
   "source": [
    "# KFold, k = 5\n",
    "data_e = dat[:500:]\n",
    "rf = RandomForestRegressor(n_estimators = 10,random_state=42)\n",
    "X = np.array(data_e)\n",
    "y = data.logerror[:500:]\n",
    "\n",
    "kf = KFold(n_splits=5)\n",
    "kf.get_n_splits(X)\n",
    "\n",
    "for train_index, test_index in kf.split(X):\n",
    "    X_train, X_test = X[train_index], X[test_index]\n",
    "    y_train, y_test = y[train_index], y[test_index]\n",
    "\n",
    "\n",
    "rf.fit(X_train, y_train)\n",
    "predictions = rf.predict(X_test)\n",
    "MSE = mean_squared_error(predictions,y_test)\n",
    "print('MSE: {}'.format(MSE))"
   ]
  },
  {
   "cell_type": "code",
   "execution_count": 61,
   "metadata": {},
   "outputs": [
    {
     "name": "stdout",
     "output_type": "stream",
     "text": [
      "MSE: 0.01067454521263678\n",
      "MSE: 0.010556285873614783\n",
      "MSE: 0.010626445537941325\n",
      "MSE: 0.010607956448550055\n",
      "MSE: 0.01064504136851938\n",
      "MSE: 0.01055244078551665\n",
      "MSE: 0.010621338971030464\n",
      "MSE: 0.0106333753622783\n",
      "MSE: 0.01063961061226757\n",
      "MSE: 0.010622999656804162\n",
      "MSE: 0.010617927421001904\n",
      "MSE: 0.010664411900479212\n",
      "MSE: 0.010576316361560445\n",
      "MSE: 0.010609709934935126\n",
      "MSE: 0.010588078451086074\n",
      "MSE: 0.01059668316379205\n",
      "MSE: 0.01060969404515634\n",
      "MSE: 0.010624413225560623\n",
      "MSE: 0.01055758491560423\n",
      "MSE: 0.010654649565840281\n",
      "MSE: 0.01065902361959131\n",
      "MSE: 0.010595047516065858\n",
      "MSE: 0.010637393586304387\n",
      "MSE: 0.010659686061153233\n",
      "MSE: 0.010625686308692166\n",
      "MSE: 0.010648763853718149\n",
      "MSE: 0.010688148122373621\n",
      "MSE: 0.010581947146396146\n",
      "MSE: 0.010599630720277475\n",
      "MSE: 0.010625873334908628\n",
      "MSE: 0.010614486955492584\n",
      "MSE: 0.010591387368584589\n",
      "MSE: 0.010611934919258216\n",
      "MSE: 0.010598363149572082\n",
      "MSE: 0.010596752276538253\n",
      "MSE: 0.010629497707809046\n",
      "MSE: 0.01065455914308545\n",
      "MSE: 0.01064691179841783\n",
      "MSE: 0.01062714967187483\n",
      "MSE: 0.010638362278859177\n",
      "MSE: 0.01061338916112717\n",
      "MSE: 0.010587364502110798\n",
      "MSE: 0.010574702764082719\n",
      "MSE: 0.010616562510806157\n",
      "MSE: 0.010595670885065103\n",
      "MSE: 0.010585501206482602\n",
      "MSE: 0.01059646357995266\n",
      "MSE: 0.010633598348087794\n",
      "MSE: 0.010653629193657737\n",
      "MSE: 0.010625451492937059\n",
      "MSE: 0.010593621148446926\n",
      "MSE: 0.010597628309119323\n",
      "MSE: 0.01060099709024994\n",
      "MSE: 0.010618183785742943\n",
      "MSE: 0.010604875274748252\n",
      "MSE: 0.01063661539131451\n",
      "MSE: 0.010640915609526198\n",
      "MSE: 0.010615591352737574\n",
      "MSE: 0.010654786994424393\n",
      "MSE: 0.01062895726290966\n",
      "MSE: 0.010634856719421788\n",
      "MSE: 0.010642608202450929\n",
      "MSE: 0.010614427548199244\n",
      "MSE: 0.010590794540207038\n",
      "MSE: 0.010618137599208419\n",
      "MSE: 0.010617940207513214\n",
      "MSE: 0.010628500189816523\n",
      "MSE: 0.010582757512849882\n",
      "MSE: 0.010633000464517855\n",
      "MSE: 0.010643537644420761\n",
      "MSE: 0.010566306554783876\n",
      "MSE: 0.010614625001187658\n",
      "MSE: 0.01060216177508741\n",
      "MSE: 0.010610069140297235\n",
      "MSE: 0.010680358597978404\n",
      "MSE: 0.010588459858263628\n",
      "MSE: 0.010645212037475404\n",
      "MSE: 0.010609943099159002\n",
      "MSE: 0.01070089295398193\n",
      "MSE: 0.01052583157619886\n",
      "MSE: 0.010645969269578984\n",
      "MSE: 0.010613345430997704\n",
      "MSE: 0.010613023449786284\n",
      "MSE: 0.010615984316372454\n",
      "MSE: 0.010641789241715395\n",
      "MSE: 0.010576633713414713\n",
      "MSE: 0.010580216779306066\n",
      "MSE: 0.010608812653526452\n",
      "MSE: 0.010648200630001808\n",
      "MSE: 0.010615938009347839\n",
      "MSE: 0.01060930457617305\n",
      "MSE: 0.010616535087356754\n",
      "MSE: 0.01061262593144025\n",
      "MSE: 0.010661158201118206\n",
      "MSE: 0.010558321779185422\n",
      "MSE: 0.010555545303939495\n",
      "MSE: 0.010634662168443321\n",
      "MSE: 0.010630549137678448\n",
      "MSE: 0.010574369907680067\n",
      "MSE: 0.01061094712618425\n"
     ]
    }
   ],
   "source": [
    "# Run d2 for 100 times\n",
    "X_train, X_test, y_train, y_test = train_test_split(dat, logerr, test_size=0.30)\n",
    "for i in range(100):\n",
    "    forest = RandomForestRegressor(n_estimators = 10,random_state = i)\n",
    "    ff = forest.fit(X_train, y_train)\n",
    "    pred = forest.predict(X_test)\n",
    "    MSE = mean_squared_error(pred,y_test)\n",
    "    print('MSE: {}'.format(MSE))"
   ]
  },
  {
   "cell_type": "markdown",
   "metadata": {},
   "source": [
    "The MSE did not change too much with each iteration, however, the advantage of cross-validation is it helps with overfitting. In K-Folds Cross Validation, the data is split into k different subsets, and the model is trained on k-1 subsets and the last subset is used as test data. This helps with overfitting and less random findings."
   ]
  }
 ],
 "metadata": {
  "kernelspec": {
   "display_name": "Python 3",
   "language": "python",
   "name": "python3"
  },
  "language_info": {
   "codemirror_mode": {
    "name": "ipython",
    "version": 3
   },
   "file_extension": ".py",
   "mimetype": "text/x-python",
   "name": "python",
   "nbconvert_exporter": "python",
   "pygments_lexer": "ipython3",
   "version": "3.6.8"
  }
 },
 "nbformat": 4,
 "nbformat_minor": 4
}
