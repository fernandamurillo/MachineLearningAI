{
 "cells": [
  {
   "cell_type": "code",
   "execution_count": 1,
   "metadata": {},
   "outputs": [],
   "source": [
    "import numpy as np\n",
    "import matplotlib.pyplot as plt"
   ]
  },
  {
   "cell_type": "markdown",
   "metadata": {},
   "source": [
    "# Principal Component Analysis\n",
    "The goal of this question is to build a conceptual understanding of dimensionality reduction using PCA and implement it on a toy dataset. You’ll only have to use numpy and matplotlib for this question."
   ]
  },
  {
   "cell_type": "code",
   "execution_count": 2,
   "metadata": {},
   "outputs": [],
   "source": [
    "# (a) Load data (features)\n",
    "def load_data():\n",
    "    data_array = np.load('features.npy')\n",
    "    data = (data_array-data_array.mean(axis=0)) / data_array.std(axis=0)\n",
    "    return data"
   ]
  },
  {
   "cell_type": "code",
   "execution_count": 3,
   "metadata": {},
   "outputs": [],
   "source": [
    "# (b) Perform eigen decomposition and return eigen pairs in desecending order of eigen values\n",
    "def eigendecomp(X):\n",
    "    data = load_data()\n",
    "    covmat = np.cov(data.T)\n",
    "    w,v = np.linalg.eig(covmat)\n",
    "    sorted_eigenvalues_indicies = np.argsort(-w)\n",
    "    sorted_eig_vals = w[sorted_eigenvalues_indicies]\n",
    "    sorted_eig_vecs = np.zeros((8,8))\n",
    "    for i in sorted_eigenvalues_indicies:\n",
    "        sorted_eig_vecs[i,:] = v[:,i]\n",
    "    return (sorted_eig_vals, sorted_eig_vecs)"
   ]
  },
  {
   "cell_type": "code",
   "execution_count": 4,
   "metadata": {},
   "outputs": [],
   "source": [
    "# (c) Evaluate using variance_explained as the metric\n",
    "def eval(k, data):\n",
    "    val, vec = eigendecomp(data)\n",
    "    eigval_sum = np.sum(val)\n",
    "    variance = np.zeros(k)\n",
    "    for i in range(k):\n",
    "        variance[i] = np.sum(val[0:(i+1)])/eigval_sum\n",
    "    return(variance)"
   ]
  },
  {
   "cell_type": "code",
   "execution_count": 6,
   "metadata": {},
   "outputs": [
    {
     "name": "stdout",
     "output_type": "stream",
     "text": [
      "Feature 1 explains 58.8921% variance.\n",
      "Features 1 to 2 explains 87.399% variance.\n",
      "Features 1 to 3 explains 97.0456% variance.\n",
      "Features 1 to 4 explains 99.5807% variance.\n",
      "Features 1 to 5 explains 100.0% variance.\n",
      "Features 1 to 6 explains 100.0% variance.\n"
     ]
    }
   ],
   "source": [
    "dat = load_data()\n",
    "var = eval(6, dat)\n",
    "for i in range(len(var)):\n",
    "    if i < 1: \n",
    "        print(\"Feature {} explains {}% variance.\".format(i+1, (var[i]*100).round(4)))\n",
    "    else:\n",
    "        print(\"Features 1 to {} explains {}% variance.\".format(i+1, (var[i]*100).round(4)))"
   ]
  },
  {
   "cell_type": "code",
   "execution_count": 20,
   "metadata": {},
   "outputs": [],
   "source": [
    "# (d) Visualize after projecting to 2-D space\n",
    "#Write a funcঞon that projects the original data to a 2-dimensional feature subspace.\n",
    "#Load the labels from q1-data/labels.npy and plot the 2-D representaঞon as a scaer plot with labels as legends\n",
    "#of the plot\n",
    "def viz():\n",
    "    labels = np.load('labels.npy')\n",
    "    X = load_data()[:,0:2]\n",
    "    # Plot points\n",
    "    for i in range(len(X)):\n",
    "        if labels[i] == 0:\n",
    "            plt.scatter(X[:,0][i],X[:,1][i],color='orange')\n",
    "        elif labels[i] == 1:\n",
    "            plt.scatter(X[:,0][i],X[:,1][i],color='blue')\n",
    "        elif labels[i] == 2:\n",
    "            plt.scatter(X[:,0][i],X[:,1][i],color='green')    \n",
    "        \n",
    "    plt.xlabel('Feature 1')\n",
    "    plt.ylabel('Feature 2')\n",
    "    plt.title('Data in 2-D Space')\n",
    "    plt.show\n",
    "    "
   ]
  },
  {
   "cell_type": "code",
   "execution_count": 22,
   "metadata": {},
   "outputs": [
    {
     "data": {
      "image/png": "[encoded data removed]",
      "text/plain": [
       "<Figure size 432x288 with 1 Axes>"
      ]
     },
     "metadata": {
      "needs_background": "light"
     },
     "output_type": "display_data"
    }
   ],
   "source": [
    "def main():\n",
    "    dat = load_data()\n",
    "    eval(4,dat)\n",
    "    viz()\n",
    "\n",
    "if __name__ == \"__main__\":\n",
    "    main()"
   ]
  },
  {
   "cell_type": "raw",
   "metadata": {},
   "source": [
    "(e1): If the number of features is 1000 and the number of data points is 10, what will be the dimension of your covariance matrix? Can you suggest what can be changed to improve the performance?"
   ]
  },
  {
   "cell_type": "markdown",
   "metadata": {},
   "source": [
    "The covariance matrix will be 1000x1000. In order to improve performance, we can use pooling, such as mean,min,max pooling, in order to reduce the size of the covariance matrix and to reduce the number of features. This will improve the performance by speeding up the computation with minimal loss of information"
   ]
  },
  {
   "cell_type": "raw",
   "metadata": {},
   "source": [
    "(e2): Assume you have a dataset with the original dimensionality as 2 and you have to reduce it to 1. Provide a sample scatter plot of the original data (less than 10 datapoints) where PCA might produce misleading results. You can plot it by hand and then take a picture. In the next cell, switch to Markdown mode and use the command: ![title](<your_plot_file_path>)"
   ]
  },
  {
   "cell_type": "code",
   "execution_count": 37,
   "metadata": {},
   "outputs": [
    {
     "data": {
      "image/png": "[encoded data removed]",
      "text/plain": [
       "<Figure size 432x288 with 1 Axes>"
      ]
     },
     "metadata": {
      "needs_background": "light"
     },
     "output_type": "display_data"
    }
   ],
   "source": [
    "theta = np.linspace(0, 2*np.pi, 11)\n",
    "r = np.sqrt(1)\n",
    "x1 = r*np.cos(theta)\n",
    "x2 = r*np.sin(theta)\n",
    "fig, ax = plt.subplots(1)\n",
    "ax.scatter(x1, x2)\n",
    "ax.set_aspect(1)\n",
    "plt.show()"
   ]
  }
 ],
 "metadata": {
  "kernelspec": {
   "display_name": "Python 3",
   "language": "python",
   "name": "python3"
  },
  "language_info": {
   "codemirror_mode": {
    "name": "ipython",
    "version": 3
   },
   "file_extension": ".py",
   "mimetype": "text/x-python",
   "name": "python",
   "nbconvert_exporter": "python",
   "pygments_lexer": "ipython3",
   "version": "3.6.8"
  }
 },
 "nbformat": 4,
 "nbformat_minor": 4
}
